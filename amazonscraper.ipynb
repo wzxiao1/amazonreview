{
 "cells": [
  {
   "cell_type": "code",
   "execution_count": 1,
   "id": "bf376392-e857-461d-b8f9-e34c632c2549",
   "metadata": {},
   "outputs": [],
   "source": [
    "import requests\n",
    "from bs4 import BeautifulSoup\n",
    "import pandas as pd\n"
   ]
  },
  {
   "cell_type": "code",
   "execution_count": 52,
   "id": "5ccd22ec-4dba-475c-8bc5-85562ed54fbc",
   "metadata": {},
   "outputs": [],
   "source": [
    "header = {\n",
    "    \"user-agent\":\"Mozilla/5.0 (Macintosh; Intel Mac OS X 10_15_7) AppleWebKit/537.36 (KHTML, like Gecko) Chrome/122.0.0.0 Safari/537.36\",\n",
    "    \"accept-language\": \"en-GB,en;q=0.9\"\n",
    "}"
   ]
  },
  {
   "cell_type": "code",
   "execution_count": 53,
   "id": "b45d0911-9c68-4a47-9f94-af4595e2e2f0",
   "metadata": {},
   "outputs": [],
   "source": [
    "def get_soup(url):\n",
    "    response = requests.get(url, headers = header)\n",
    "    soup = BeautifulSoup(response.text, 'lxml')\n",
    "    return soup\n",
    "\n",
    "\n"
   ]
  },
  {
   "cell_type": "code",
   "execution_count": 59,
   "id": "4965543d-ca26-4953-8277-9a5531299988",
   "metadata": {},
   "outputs": [],
   "source": [
    "def get_title(soup):\n",
    "    try:\n",
    "        title_e = soup.select_one(\"#productTitle\")\n",
    "        return title_e.text\n",
    "    except:\n",
    "        return \"data\""
   ]
  },
  {
   "cell_type": "code",
   "execution_count": 55,
   "id": "5c989982-75a8-4f07-a257-4fd79a9ec108",
   "metadata": {},
   "outputs": [],
   "source": [
    "def get_reviews(soup):\n",
    "    # find where the reviews are at\n",
    "    review_elements = soup.select(\"div.review\")\n",
    "\n",
    "    scraped_reviews = []\n",
    "    # for every single review, the author, rating, title of review, content of review, date and whether the author has an\n",
    "    # authorised purchase is taken into a dictionary and then appended as an element into a list\n",
    "    for review in review_elements:\n",
    "        r_author_element = review.select_one(\"span.a-profile-name\")\n",
    "        r_author = r_author_element.text if r_author_element else None\n",
    "\n",
    "        r_rating_element = review.select_one(\"i.review-rating\")\n",
    "        r_rating = r_rating_element.text.replace(\"out of 5 stars\", \"\") if r_rating_element else None\n",
    "\n",
    "        r_title_element = review.select_one(\"a.review-title\")\n",
    "        r_title_span_element = r_title_element.select_one(\"span:not([class])\") if r_title_element else None\n",
    "        r_title = r_title_span_element.text if r_title_span_element else None\n",
    "\n",
    "        r_content_element = review.select_one(\"span.review-text\")\n",
    "        r_content = r_content_element.text.strip(\"\\nRead more\") if r_content_element else None\n",
    "\n",
    "        r_date_element = review.select_one(\"span.review-date\")\n",
    "        r_date = r_date_element.text if r_date_element else None\n",
    "\n",
    "        r_verified_element = review.select_one(\"span.a-size-mini\")\n",
    "        r_verified = r_verified_element.text if r_verified_element else None\n",
    "\n",
    "        r = {\n",
    "            \"author\": r_author,\n",
    "            \"rating\": r_rating,\n",
    "            \"title\": r_title,\n",
    "            \"content\": r_content,\n",
    "            \"date\": r_date,\n",
    "            \"verified\": r_verified\n",
    "        }\n",
    "\n",
    "        scraped_reviews.append(r)\n",
    "\n",
    "    return scraped_reviews"
   ]
  },
  {
   "cell_type": "code",
   "execution_count": 64,
   "id": "9c10035c-d9a9-41e9-a614-fda9aa47e123",
   "metadata": {},
   "outputs": [
    {
     "name": "stdin",
     "output_type": "stream",
     "text": [
      "Enter an amazon product's review page url:  https://www.amazon.com.au/Varmilo-Melody-Mechanical-Keyboard-Cherry/dp/B0B69PSKLY/ref=sr_1_1?crid=234UBNVSUQFAK&dib=eyJ2IjoiMSJ9.5N0bE8xvpKV9vp7_J4E8vnO04KMiE__21JnWToaUx-kRoafBQzERO2yQPL8bqDtBXsm3D7afeoZ4Tr81fslciMZX7sIYX6nvZQWLFtXzx9GV29jbcw0qhNwOUvzgfilULz1A1YBBXiShhXASsq3E1sigjRxxNLOPeXIieKBC5IONxYAmL5B4xgHFCurTGjYqX6GZXET7XK1uhcJCExcQYwhsMKDm-XCQqSj5sTykord-62iqIjtlNI2bTr1KcYwMO2Kg5H_79QIGzc83lkcNSdDiSPityDlsx3wdQt4pJRg.5m3-cBT23NulKX2Wyp3-JbbiGJcrvxtgvM3wVWBd1Kk&dib_tag=se&keywords=varmilo&qid=1710303663&sprefix=varmilo%2B%2Caps%2C373&sr=8-1&th=1\n"
     ]
    },
    {
     "data": {
      "text/plain": [
       "'https://www.amazon.com.au/Varmilo-Melody-Mechanical-Keyboard-Cherry/dp/B0B69PSKLY/ref=sr_1_1?crid=234UBNVSUQFAK&dib=eyJ2IjoiMSJ9.5N0bE8xvpKV9vp7_J4E8vnO04KMiE__21JnWToaUx-kRoafBQzERO2yQPL8bqDtBXsm3D7afeoZ4Tr81fslciMZX7sIYX6nvZQWLFtXzx9GV29jbcw0qhNwOUvzgfilULz1A1YBBXiShhXASsq3E1sigjRxxNLOPeXIieKBC5IONxYAmL5B4xgHFCurTGjYqX6GZXET7XK1uhcJCExcQYwhsMKDm-XCQqSj5sTykord-62iqIjtlNI2bTr1KcYwMO2Kg5H_79QIGzc83lkcNSdDiSPityDlsx3wdQt4pJRg.5m3-cBT23NulKX2Wyp3-JbbiGJcrvxtgvM3wVWBd1Kk&dib_tag=se&keywords=varmilo&qid=1710303663&sprefix=varmilo%2B%2Caps%2C373&sr=8-1&th=1'"
      ]
     },
     "execution_count": 64,
     "metadata": {},
     "output_type": "execute_result"
    }
   ],
   "source": [
    "url = input(\"Enter an amazon product's review page url: \")\n",
    "url"
   ]
  },
  {
   "cell_type": "code",
   "execution_count": 67,
   "id": "61d34bd8-5b52-4553-bb3d-955073286308",
   "metadata": {},
   "outputs": [],
   "source": [
    "url = input(\"Enter an amazon product's review page url: \")\n",
    "soup = get_soup(url)\n",
    "info = get_reviews(soup)\n",
    "df = pd.DataFrame(data=info)\n",
    "title = get_title(soup).strip(\" \")[0:9]\n",
    "df.to_csv(f'/Users/willxiao/Desktop/amazon/{title}.csv')"
   ]
  },
  {
   "cell_type": "code",
   "execution_count": 68,
   "id": "948c8567-5ceb-4169-8024-cb73569062d3",
   "metadata": {},
   "outputs": [
    {
     "data": {
      "text/plain": [
       "[{'author': 'Hasan Shaik',\n",
       "  'rating': '5.0 ',\n",
       "  'title': 'For the price, there aren’t many as good as this.',\n",
       "  'content': 'I never was a huge Razer fan but these are incredible for the money.They sound solid and if you’re not an audiophile, this will be more than enough to get the job done whether you’re working or gaming. The mic sounds great for what it is.They’re comfortable to wear and you’ll even forget you have them on. They are a bit of a tight fit when you first put them on, but they loosen up after a while. Also, they do a pretty good job of blocking out external sounds. These are not noise canceling, but it’s good enough.The software is much like others - kinda bloatware type but just enough to make a difference in sound quality. It’s nice that they also include a splitter for mic and audio. You also get a half decent carrying pouch.Overall, you’re getting what you pay for. If you want something that just works and don’t care about anything else like audiophile level sound and mic quality, these are for you.',\n",
       "  'date': 'Reviewed in the United States on March 18, 2024',\n",
       "  'verified': 'Verified Purchase'},\n",
       " {'author': 'Valerie',\n",
       "  'rating': '5.0 ',\n",
       "  'title': 'Great headset!',\n",
       "  'content': 'I was looking for something comfortable with balanced sound profile for fps games like helldivers and apex legends on ps5. This headset fit all of that and at a great price! I Have tried other headsets that had harsh clamp force. I’ve played hours with this one and it is very comfortable. Provides a nice seal to lock you into your games but doesn’t cause fatigue. The sound is really balanced to me. Not too much bass and audio doesn’t sound muddy like other headsets I’ve tried in this price range. I haven’t tried the app that comes along with the device for surround sound but out of the box the sound is very good. Build quality feels decent and not cheap. Would certainly recommend. Only nitpicks would be the mic and audio chord are not detachable. Would be a nice touch but I don’t really care. It also comes with a 2 yr warranty so I’m sure It’ll be fine over time.',\n",
       "  'date': 'Reviewed in the United States on April 28, 2024',\n",
       "  'verified': 'Verified Purchase'},\n",
       " {'author': 'Donnie B.',\n",
       "  'rating': '4.0 ',\n",
       "  'title': 'Excellent, budget-friendly headphones.',\n",
       "  'content': 'Excellent sound quality. The app is not needed as there are only two drivers. The cords are very long, which is nice. Feels good quality and comfortable. They are not noise-cancelling, but they do filter out most of the nose when on your head.',\n",
       "  'date': 'Reviewed in the United States on April 26, 2024',\n",
       "  'verified': 'Verified Purchase'},\n",
       " {'author': 'Estiven Lopez',\n",
       "  'rating': '5.0 ',\n",
       "  'title': 'price quality',\n",
       "  'content': 'The headbands are excellent, I have no complaints about their presentation, something I expected from a brand like Razer, their box is beautiful and the headphones have nothing to say, I use them for shooting video games where hearing footsteps is essential, it has active noise cancellation that For its price it is incredible. They are comfortable for long gaming sessions. They do not feel heavy or cumbersome, something that had already happened with other headphones that I used previously where, with 1 hour of continuous use, I could not cope with the fatigue in my ears. I just pointed out something and It is its cable, although it is easy to untangle, it is tedious to be in the middle of the game and it gets tangled in itself, but for its price, the quality of the components and what the RAZER experience includes. 10/10.',\n",
       "  'date': 'Reviewed in the United States on May 1, 2024',\n",
       "  'verified': 'Verified Purchase'},\n",
       " {'author': 'Dolphin Incarnate',\n",
       "  'rating': '5.0 ',\n",
       "  'title': 'Designed and manufactured very well. They work great, especially for BTE hearing aid users',\n",
       "  'content': 'I\\'ve been using this headset for 20 days, and really like it.The cord length is different than what I thought it would be.  The cord directly attaches to the headset (with a well designed strain relief) and is 4\\' 4\" (or 52\") long, and ends with a TRRS connector.  There is an extension cord that allows you to plug in the headset TRRS connector, and ends in two TRS connectors that should be plugged into a desktop computers\\' microphone jack and speaker jack.  The cord seems to be a very durable cord.I use a laptop which has a TRRS jack, so I cannot use the extension cord, to I was a bit disappointed that the card wasn\\'t as long as I hoped.  However, it is long enough to work fine, so I didn\\'t take any stars off for this.I use this headset a lot for remote work, and almost never for computer games.  The sound quality is really good. The headset and padding\\'s passive noise reduction is good, and is better than most headphones and headsets that I have used in the past.This headset is extremely comfortable to wear.  The adjustments were easy to make.  Most other headphones/headsets put a lot more pressure on my ears.  This headset applies just enough pressure for the padding to seal off  all around my ears, so that the noise reduction can happen. The top padding is very good, and I hardly notice the headphones pushing down on the top of my head.I\\'ve asked other people in meetings how I sound, and they have all said that my microphone is working well and I sound good.I have been wearing BTE (Behind The Ear) hearing aids for a long time, and most headsets cause them to whistle or scream.  This is the first OTE (Over The Ear) headset I\\'ve ever owned where my hearing aids don\\'t whistle or scream, which is so nice!!!Overall, this headset is a great headset, and is designed and manufactured very well. I would recommend this to family and friends if they want to spend a little more for a quality headset.',\n",
       "  'date': 'Reviewed in the United States on December 27, 2023',\n",
       "  'verified': 'Verified Purchase'},\n",
       " {'author': 'Axel Rodriguez',\n",
       "  'rating': '5.0 ',\n",
       "  'title': None,\n",
       "  'content': 'La calidad de audio es muy buena y los materiales también se ven de buena calidad ya tengo tiempo y no han fallado, los recomien',\n",
       "  'date': 'Reviewed in Mexico on May 7, 2024',\n",
       "  'verified': 'Verified Purchase'},\n",
       " {'author': 'AnnieBCH',\n",
       "  'rating': '5.0 ',\n",
       "  'title': None,\n",
       "  'content': 'Tiene firmeza al momento de colocarlos, buena cancelación de ruido y cubre completamente tus orejas. No es pesado, por lo que no sientes molestia en la cabeza donde está la almohadilla.Se escucha excelente, sobretodo para jugar Warzone, puedes escuchar muy claramente los pasos de los jugadores.Son mejores que los Astro A10 en cuanto a calidad de sonido y comodidad.',\n",
       "  'date': 'Reviewed in Mexico on April 27, 2024',\n",
       "  'verified': 'Verified Purchase'},\n",
       " {'author': 'Alberto',\n",
       "  'rating': '5.0 ',\n",
       "  'title': None,\n",
       "  'content': 'Llegaron rápido y muy bien empacados.Están increíbles, su color y forma.Cómodos y cumplen con su función al 100%.Se ve que son de buen material.Eunucos meses veré que tal van.Muy recomendados para jugar con su increíble sonido.No los recomiendo para escuchar música pero es gustos de cada persona, lo digo por su tamaño y si estas en clima caluroso.Aunque se escuchan increíble.',\n",
       "  'date': 'Reviewed in Mexico on April 22, 2024',\n",
       "  'verified': 'Verified Purchase'},\n",
       " {'author': 'Roxana',\n",
       "  'rating': '5.0 ',\n",
       "  'title': None,\n",
       "  'content': 'La calidad de sonido mejora muchísimo con kA app, el micrófono está bastante bien, la calidad del material está muy bien también y sobre todo el precio es bastante bueno para la calidad que ofrec',\n",
       "  'date': 'Reviewed in Mexico on April 6, 2024',\n",
       "  'verified': 'Verified Purchase'},\n",
       " {'author': 'Leandro Melchor',\n",
       "  'rating': '5.0 ',\n",
       "  'title': None,\n",
       "  'content': 'Demasiado buenos y cómodos, el sonido te gustara si no eres audiofilo y solo lo quieres usar para escuchar música o jugar, el micrófono también se escucha bien, no igual que uno dedicado, pero mucho mejor que otros que vienen integrados, venia con un extensor para largar la longitud del cable, se agradece mucho porque tenia mi pc algo lejos. También la perilla que tiene para regular el volumen lo vuelve estupendo para bajar o subir el volumen de forma muy cómoda. Llevo aproximadamente dos años con ellos y no me han dado ni un solo problema. También un punto muy bueno es que puedes silenciar el micrófono desde los audífonos además de que el mismo es muy flexible para acomodarlo donde quieras y que no estorbe, habría sido mejor que se pudiera quitar y poner a gusto, pero por el precio es comprensible que este hecho de esta forma. En general lo recomiendo si buscas algo bueno y por un precio razonabl',\n",
       "  'date': 'Reviewed in Mexico on March 15, 2024',\n",
       "  'verified': 'Verified Purchase'}]"
      ]
     },
     "execution_count": 68,
     "metadata": {},
     "output_type": "execute_result"
    }
   ],
   "source": []
  }
 ],
 "metadata": {
  "kernelspec": {
   "display_name": "scrape",
   "language": "python",
   "name": "scrape"
  },
  "language_info": {
   "codemirror_mode": {
    "name": "ipython",
    "version": 3
   },
   "file_extension": ".py",
   "mimetype": "text/x-python",
   "name": "python",
   "nbconvert_exporter": "python",
   "pygments_lexer": "ipython3",
   "version": "3.12.3"
  }
 },
 "nbformat": 4,
 "nbformat_minor": 5
}
